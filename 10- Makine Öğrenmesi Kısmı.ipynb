{
 "cells": [
  {
   "cell_type": "code",
   "execution_count": 11,
   "metadata": {},
   "outputs": [],
   "source": [
    "import findspark\n",
    "findspark.init(\"C:\\spark\")\n",
    "\n",
    "import pyspark\n",
    "from pyspark.sql import SparkSession\n",
    "from pyspark.conf import SparkConf  # Conf = configuration\n",
    "\n",
    "import matplotlib.pyplot as plt\n",
    "import seaborn as sns"
   ]
  },
  {
   "cell_type": "code",
   "execution_count": 12,
   "metadata": {},
   "outputs": [
    {
     "data": {
      "text/html": [
       "\n",
       "        <div>\n",
       "            <p><b>SparkContext</b></p>\n",
       "\n",
       "            <p><a href=\"http://Bedirhan:4040\">Spark UI</a></p>\n",
       "\n",
       "            <dl>\n",
       "              <dt>Version</dt>\n",
       "                <dd><code>v3.5.2</code></dd>\n",
       "              <dt>Master</dt>\n",
       "                <dd><code>local</code></dd>\n",
       "              <dt>AppName</dt>\n",
       "                <dd><code>pyspark giris</code></dd>\n",
       "            </dl>\n",
       "        </div>\n",
       "        "
      ],
      "text/plain": [
       "<SparkContext master=local appName=pyspark giris>"
      ]
     },
     "execution_count": 12,
     "metadata": {},
     "output_type": "execute_result"
    }
   ],
   "source": [
    "# Spark bağlantısının yapıldığı bilgiler\n",
    "\n",
    "spark = SparkSession.builder.master(\"local\").appName(\"pyspark giris\").getOrCreate()\n",
    "\n",
    "sc = spark.sparkContext # Bağlantı bilgisi\n",
    "\n",
    "sc"
   ]
  },
  {
   "cell_type": "code",
   "execution_count": 13,
   "metadata": {},
   "outputs": [
    {
     "name": "stdout",
     "output_type": "stream",
     "text": [
      "+---+-------------------+----+--------------+---------------+-----+---------+-----+\n",
      "|_c0|              Names| Age|Total_Purchase|Account_Manager|Years|Num_Sites|Churn|\n",
      "+---+-------------------+----+--------------+---------------+-----+---------+-----+\n",
      "|  0|   Cameron Williams|42.0|       11066.8|              0| 7.22|      8.0|    1|\n",
      "|  1|      Kevin Mueller|41.0|      11916.22|              0|  6.5|     11.0|    1|\n",
      "|  2|        Eric Lozano|38.0|      12884.75|              0| 6.67|     12.0|    1|\n",
      "|  3|      Phillip White|42.0|       8010.76|              0| 6.71|     10.0|    1|\n",
      "|  4|     Cynthia Norton|37.0|       9191.58|              0| 5.56|      9.0|    1|\n",
      "|  5|   Jessica Williams|48.0|      10356.02|              0| 5.12|      8.0|    1|\n",
      "|  6|        Eric Butler|44.0|      11331.58|              1| 5.23|     11.0|    1|\n",
      "|  7|      Zachary Walsh|32.0|       9885.12|              1| 6.92|      9.0|    1|\n",
      "|  8|        Ashlee Carr|43.0|       14062.6|              1| 5.46|     11.0|    1|\n",
      "|  9|     Jennifer Lynch|40.0|       8066.94|              1| 7.11|     11.0|    1|\n",
      "| 10|       Paula Harris|30.0|      11575.37|              1| 5.22|      8.0|    1|\n",
      "| 11|     Bruce Phillips|45.0|       8771.02|              1| 6.64|     11.0|    1|\n",
      "| 12|       Craig Garner|45.0|       8988.67|              1| 4.84|     11.0|    1|\n",
      "| 13|       Nicole Olson|40.0|       8283.32|              1|  5.1|     13.0|    1|\n",
      "| 14|     Harold Griffin|41.0|       6569.87|              1|  4.3|     11.0|    1|\n",
      "| 15|       James Wright|38.0|      10494.82|              1| 6.81|     12.0|    1|\n",
      "| 16|      Doris Wilkins|45.0|       8213.41|              1| 7.35|     11.0|    1|\n",
      "| 17|Katherine Carpenter|43.0|      11226.88|              0| 8.08|     12.0|    1|\n",
      "| 18|     Lindsay Martin|53.0|       5515.09|              0| 6.85|      8.0|    1|\n",
      "| 19|        Kathy Curry|46.0|        8046.4|              1| 5.69|      8.0|    1|\n",
      "+---+-------------------+----+--------------+---------------+-----+---------+-----+\n",
      "only showing top 20 rows\n",
      "\n"
     ]
    }
   ],
   "source": [
    "# Veri setinin okunması\n",
    "\n",
    "spark_df = spark.read.csv(\"churn.csv\" , header=True , inferSchema=True)\n",
    "\n",
    "spark_df.show()"
   ]
  },
  {
   "cell_type": "markdown",
   "metadata": {},
   "source": [
    "# Veri Setinin Düzenlenmesi ve  Betimsel İstatistikleri"
   ]
  },
  {
   "cell_type": "code",
   "execution_count": 14,
   "metadata": {},
   "outputs": [
    {
     "name": "stdout",
     "output_type": "stream",
     "text": [
      "+---+-------------------+----+--------------+---------------+-----+---------+-----+\n",
      "|_c0|              names| age|total_purchase|account_manager|years|num_sites|churn|\n",
      "+---+-------------------+----+--------------+---------------+-----+---------+-----+\n",
      "|  0|   Cameron Williams|42.0|       11066.8|              0| 7.22|      8.0|    1|\n",
      "|  1|      Kevin Mueller|41.0|      11916.22|              0|  6.5|     11.0|    1|\n",
      "|  2|        Eric Lozano|38.0|      12884.75|              0| 6.67|     12.0|    1|\n",
      "|  3|      Phillip White|42.0|       8010.76|              0| 6.71|     10.0|    1|\n",
      "|  4|     Cynthia Norton|37.0|       9191.58|              0| 5.56|      9.0|    1|\n",
      "|  5|   Jessica Williams|48.0|      10356.02|              0| 5.12|      8.0|    1|\n",
      "|  6|        Eric Butler|44.0|      11331.58|              1| 5.23|     11.0|    1|\n",
      "|  7|      Zachary Walsh|32.0|       9885.12|              1| 6.92|      9.0|    1|\n",
      "|  8|        Ashlee Carr|43.0|       14062.6|              1| 5.46|     11.0|    1|\n",
      "|  9|     Jennifer Lynch|40.0|       8066.94|              1| 7.11|     11.0|    1|\n",
      "| 10|       Paula Harris|30.0|      11575.37|              1| 5.22|      8.0|    1|\n",
      "| 11|     Bruce Phillips|45.0|       8771.02|              1| 6.64|     11.0|    1|\n",
      "| 12|       Craig Garner|45.0|       8988.67|              1| 4.84|     11.0|    1|\n",
      "| 13|       Nicole Olson|40.0|       8283.32|              1|  5.1|     13.0|    1|\n",
      "| 14|     Harold Griffin|41.0|       6569.87|              1|  4.3|     11.0|    1|\n",
      "| 15|       James Wright|38.0|      10494.82|              1| 6.81|     12.0|    1|\n",
      "| 16|      Doris Wilkins|45.0|       8213.41|              1| 7.35|     11.0|    1|\n",
      "| 17|Katherine Carpenter|43.0|      11226.88|              0| 8.08|     12.0|    1|\n",
      "| 18|     Lindsay Martin|53.0|       5515.09|              0| 6.85|      8.0|    1|\n",
      "| 19|        Kathy Curry|46.0|        8046.4|              1| 5.69|      8.0|    1|\n",
      "+---+-------------------+----+--------------+---------------+-----+---------+-----+\n",
      "only showing top 20 rows\n",
      "\n"
     ]
    }
   ],
   "source": [
    "# Sütunlarımızın isimlerini standartlaştırdık\n",
    "\n",
    "spark_df = spark_df.toDF(*[c.lower() for c in spark_df.columns])\n",
    "\n",
    "spark_df.show()"
   ]
  },
  {
   "cell_type": "code",
   "execution_count": 15,
   "metadata": {},
   "outputs": [
    {
     "name": "stdout",
     "output_type": "stream",
     "text": [
      "+-----+-------------------+----+--------------+---------------+-----+---------+-----+\n",
      "|index|              names| age|total_purchase|account_manager|years|num_sites|churn|\n",
      "+-----+-------------------+----+--------------+---------------+-----+---------+-----+\n",
      "|    0|   Cameron Williams|42.0|       11066.8|              0| 7.22|      8.0|    1|\n",
      "|    1|      Kevin Mueller|41.0|      11916.22|              0|  6.5|     11.0|    1|\n",
      "|    2|        Eric Lozano|38.0|      12884.75|              0| 6.67|     12.0|    1|\n",
      "|    3|      Phillip White|42.0|       8010.76|              0| 6.71|     10.0|    1|\n",
      "|    4|     Cynthia Norton|37.0|       9191.58|              0| 5.56|      9.0|    1|\n",
      "|    5|   Jessica Williams|48.0|      10356.02|              0| 5.12|      8.0|    1|\n",
      "|    6|        Eric Butler|44.0|      11331.58|              1| 5.23|     11.0|    1|\n",
      "|    7|      Zachary Walsh|32.0|       9885.12|              1| 6.92|      9.0|    1|\n",
      "|    8|        Ashlee Carr|43.0|       14062.6|              1| 5.46|     11.0|    1|\n",
      "|    9|     Jennifer Lynch|40.0|       8066.94|              1| 7.11|     11.0|    1|\n",
      "|   10|       Paula Harris|30.0|      11575.37|              1| 5.22|      8.0|    1|\n",
      "|   11|     Bruce Phillips|45.0|       8771.02|              1| 6.64|     11.0|    1|\n",
      "|   12|       Craig Garner|45.0|       8988.67|              1| 4.84|     11.0|    1|\n",
      "|   13|       Nicole Olson|40.0|       8283.32|              1|  5.1|     13.0|    1|\n",
      "|   14|     Harold Griffin|41.0|       6569.87|              1|  4.3|     11.0|    1|\n",
      "|   15|       James Wright|38.0|      10494.82|              1| 6.81|     12.0|    1|\n",
      "|   16|      Doris Wilkins|45.0|       8213.41|              1| 7.35|     11.0|    1|\n",
      "|   17|Katherine Carpenter|43.0|      11226.88|              0| 8.08|     12.0|    1|\n",
      "|   18|     Lindsay Martin|53.0|       5515.09|              0| 6.85|      8.0|    1|\n",
      "|   19|        Kathy Curry|46.0|        8046.4|              1| 5.69|      8.0|    1|\n",
      "+-----+-------------------+----+--------------+---------------+-----+---------+-----+\n",
      "only showing top 20 rows\n",
      "\n"
     ]
    }
   ],
   "source": [
    "# _c0 sütununun ismini değiştirdik\n",
    "\n",
    "spark_df = spark_df.withColumnRenamed(\"_c0\" , \"index\")\n",
    "\n",
    "spark_df.show()"
   ]
  },
  {
   "cell_type": "code",
   "execution_count": 16,
   "metadata": {},
   "outputs": [
    {
     "data": {
      "text/plain": [
       "900"
      ]
     },
     "execution_count": 16,
     "metadata": {},
     "output_type": "execute_result"
    }
   ],
   "source": [
    "# Veri setindeki gözlem sayısı\n",
    "\n",
    "spark_df.count()"
   ]
  },
  {
   "cell_type": "code",
   "execution_count": 17,
   "metadata": {},
   "outputs": [
    {
     "data": {
      "text/plain": [
       "8"
      ]
     },
     "execution_count": 17,
     "metadata": {},
     "output_type": "execute_result"
    }
   ],
   "source": [
    "# Sütun sayımız\n",
    "\n",
    "len(spark_df.columns)"
   ]
  },
  {
   "cell_type": "code",
   "execution_count": 18,
   "metadata": {},
   "outputs": [
    {
     "data": {
      "text/plain": [
       "['index',\n",
       " 'names',\n",
       " 'age',\n",
       " 'total_purchase',\n",
       " 'account_manager',\n",
       " 'years',\n",
       " 'num_sites',\n",
       " 'churn']"
      ]
     },
     "execution_count": 18,
     "metadata": {},
     "output_type": "execute_result"
    }
   ],
   "source": [
    "# Sütun isimleri\n",
    "\n",
    "spark_df.columns"
   ]
  },
  {
   "cell_type": "code",
   "execution_count": 19,
   "metadata": {},
   "outputs": [
    {
     "name": "stdout",
     "output_type": "stream",
     "text": [
      "+-------+------------------+-------------+-----------------+-----------------+------------------+-----------------+------------------+-------------------+\n",
      "|summary|             index|        names|              age|   total_purchase|   account_manager|            years|         num_sites|              churn|\n",
      "+-------+------------------+-------------+-----------------+-----------------+------------------+-----------------+------------------+-------------------+\n",
      "|  count|               900|          900|              900|              900|               900|              900|               900|                900|\n",
      "|   mean|             449.5|         NULL|41.81666666666667|10062.82403333334|0.4811111111111111| 5.27315555555555| 8.587777777777777|0.16666666666666666|\n",
      "| stddev|259.95191863111916|         NULL|6.127560416916251|2408.644531858096|0.4999208935073339|1.274449013194616|1.7648355920350969| 0.3728852122772358|\n",
      "|    min|                 0|   Aaron King|             22.0|            100.0|                 0|              1.0|               3.0|                  0|\n",
      "|    max|               899|Zachary Walsh|             65.0|         18026.01|                 1|             9.15|              14.0|                  1|\n",
      "+-------+------------------+-------------+-----------------+-----------------+------------------+-----------------+------------------+-------------------+\n",
      "\n"
     ]
    }
   ],
   "source": [
    "# Veriyi tanımak için\n",
    "\n",
    "spark_df.describe().show()"
   ]
  },
  {
   "cell_type": "code",
   "execution_count": 20,
   "metadata": {},
   "outputs": [
    {
     "data": {
      "text/html": [
       "<div>\n",
       "<style scoped>\n",
       "    .dataframe tbody tr th:only-of-type {\n",
       "        vertical-align: middle;\n",
       "    }\n",
       "\n",
       "    .dataframe tbody tr th {\n",
       "        vertical-align: top;\n",
       "    }\n",
       "\n",
       "    .dataframe thead th {\n",
       "        text-align: right;\n",
       "    }\n",
       "</style>\n",
       "<table border=\"1\" class=\"dataframe\">\n",
       "  <thead>\n",
       "    <tr style=\"text-align: right;\">\n",
       "      <th></th>\n",
       "      <th>0</th>\n",
       "      <th>1</th>\n",
       "      <th>2</th>\n",
       "      <th>3</th>\n",
       "      <th>4</th>\n",
       "    </tr>\n",
       "  </thead>\n",
       "  <tbody>\n",
       "    <tr>\n",
       "      <th>summary</th>\n",
       "      <td>count</td>\n",
       "      <td>mean</td>\n",
       "      <td>stddev</td>\n",
       "      <td>min</td>\n",
       "      <td>max</td>\n",
       "    </tr>\n",
       "    <tr>\n",
       "      <th>index</th>\n",
       "      <td>900</td>\n",
       "      <td>449.5</td>\n",
       "      <td>259.95191863111916</td>\n",
       "      <td>0</td>\n",
       "      <td>899</td>\n",
       "    </tr>\n",
       "    <tr>\n",
       "      <th>names</th>\n",
       "      <td>900</td>\n",
       "      <td>None</td>\n",
       "      <td>None</td>\n",
       "      <td>Aaron King</td>\n",
       "      <td>Zachary Walsh</td>\n",
       "    </tr>\n",
       "    <tr>\n",
       "      <th>age</th>\n",
       "      <td>900</td>\n",
       "      <td>41.81666666666667</td>\n",
       "      <td>6.127560416916251</td>\n",
       "      <td>22.0</td>\n",
       "      <td>65.0</td>\n",
       "    </tr>\n",
       "    <tr>\n",
       "      <th>total_purchase</th>\n",
       "      <td>900</td>\n",
       "      <td>10062.82403333334</td>\n",
       "      <td>2408.644531858096</td>\n",
       "      <td>100.0</td>\n",
       "      <td>18026.01</td>\n",
       "    </tr>\n",
       "    <tr>\n",
       "      <th>account_manager</th>\n",
       "      <td>900</td>\n",
       "      <td>0.4811111111111111</td>\n",
       "      <td>0.4999208935073339</td>\n",
       "      <td>0</td>\n",
       "      <td>1</td>\n",
       "    </tr>\n",
       "    <tr>\n",
       "      <th>years</th>\n",
       "      <td>900</td>\n",
       "      <td>5.27315555555555</td>\n",
       "      <td>1.274449013194616</td>\n",
       "      <td>1.0</td>\n",
       "      <td>9.15</td>\n",
       "    </tr>\n",
       "    <tr>\n",
       "      <th>num_sites</th>\n",
       "      <td>900</td>\n",
       "      <td>8.587777777777777</td>\n",
       "      <td>1.7648355920350969</td>\n",
       "      <td>3.0</td>\n",
       "      <td>14.0</td>\n",
       "    </tr>\n",
       "    <tr>\n",
       "      <th>churn</th>\n",
       "      <td>900</td>\n",
       "      <td>0.16666666666666666</td>\n",
       "      <td>0.3728852122772358</td>\n",
       "      <td>0</td>\n",
       "      <td>1</td>\n",
       "    </tr>\n",
       "  </tbody>\n",
       "</table>\n",
       "</div>"
      ],
      "text/plain": [
       "                     0                    1                   2           3   \n",
       "summary          count                 mean              stddev         min  \\\n",
       "index              900                449.5  259.95191863111916           0   \n",
       "names              900                 None                None  Aaron King   \n",
       "age                900    41.81666666666667   6.127560416916251        22.0   \n",
       "total_purchase     900    10062.82403333334   2408.644531858096       100.0   \n",
       "account_manager    900   0.4811111111111111  0.4999208935073339           0   \n",
       "years              900     5.27315555555555   1.274449013194616         1.0   \n",
       "num_sites          900    8.587777777777777  1.7648355920350969         3.0   \n",
       "churn              900  0.16666666666666666  0.3728852122772358           0   \n",
       "\n",
       "                             4  \n",
       "summary                    max  \n",
       "index                      899  \n",
       "names            Zachary Walsh  \n",
       "age                       65.0  \n",
       "total_purchase        18026.01  \n",
       "account_manager              1  \n",
       "years                     9.15  \n",
       "num_sites                 14.0  \n",
       "churn                        1  "
      ]
     },
     "execution_count": 20,
     "metadata": {},
     "output_type": "execute_result"
    }
   ],
   "source": [
    "# Üstteki aynı işlemi pandas df'i olarak görüntülemek istersek\n",
    "\n",
    "spark_df.describe().toPandas().transpose()"
   ]
  },
  {
   "cell_type": "markdown",
   "metadata": {},
   "source": [
    "# Büyük Veride Veri Ön İşleme"
   ]
  },
  {
   "cell_type": "code",
   "execution_count": 21,
   "metadata": {},
   "outputs": [],
   "source": [
    "# Eksik gözlemlerden kurtulmak istersek\n",
    "\n",
    "spark_df = spark_df.dropna()"
   ]
  },
  {
   "cell_type": "code",
   "execution_count": 22,
   "metadata": {},
   "outputs": [
    {
     "name": "stdout",
     "output_type": "stream",
     "text": [
      "+-----+-------------------+----+--------------+---------------+-----+---------+-----+--------+\n",
      "|index|              names| age|total_purchase|account_manager|years|num_sites|churn|age_kare|\n",
      "+-----+-------------------+----+--------------+---------------+-----+---------+-----+--------+\n",
      "|    0|   Cameron Williams|42.0|       11066.8|              0| 7.22|      8.0|    1|  1764.0|\n",
      "|    1|      Kevin Mueller|41.0|      11916.22|              0|  6.5|     11.0|    1|  1681.0|\n",
      "|    2|        Eric Lozano|38.0|      12884.75|              0| 6.67|     12.0|    1|  1444.0|\n",
      "|    3|      Phillip White|42.0|       8010.76|              0| 6.71|     10.0|    1|  1764.0|\n",
      "|    4|     Cynthia Norton|37.0|       9191.58|              0| 5.56|      9.0|    1|  1369.0|\n",
      "|    5|   Jessica Williams|48.0|      10356.02|              0| 5.12|      8.0|    1|  2304.0|\n",
      "|    6|        Eric Butler|44.0|      11331.58|              1| 5.23|     11.0|    1|  1936.0|\n",
      "|    7|      Zachary Walsh|32.0|       9885.12|              1| 6.92|      9.0|    1|  1024.0|\n",
      "|    8|        Ashlee Carr|43.0|       14062.6|              1| 5.46|     11.0|    1|  1849.0|\n",
      "|    9|     Jennifer Lynch|40.0|       8066.94|              1| 7.11|     11.0|    1|  1600.0|\n",
      "|   10|       Paula Harris|30.0|      11575.37|              1| 5.22|      8.0|    1|   900.0|\n",
      "|   11|     Bruce Phillips|45.0|       8771.02|              1| 6.64|     11.0|    1|  2025.0|\n",
      "|   12|       Craig Garner|45.0|       8988.67|              1| 4.84|     11.0|    1|  2025.0|\n",
      "|   13|       Nicole Olson|40.0|       8283.32|              1|  5.1|     13.0|    1|  1600.0|\n",
      "|   14|     Harold Griffin|41.0|       6569.87|              1|  4.3|     11.0|    1|  1681.0|\n",
      "|   15|       James Wright|38.0|      10494.82|              1| 6.81|     12.0|    1|  1444.0|\n",
      "|   16|      Doris Wilkins|45.0|       8213.41|              1| 7.35|     11.0|    1|  2025.0|\n",
      "|   17|Katherine Carpenter|43.0|      11226.88|              0| 8.08|     12.0|    1|  1849.0|\n",
      "|   18|     Lindsay Martin|53.0|       5515.09|              0| 6.85|      8.0|    1|  2809.0|\n",
      "|   19|        Kathy Curry|46.0|        8046.4|              1| 5.69|      8.0|    1|  2116.0|\n",
      "+-----+-------------------+----+--------------+---------------+-----+---------+-----+--------+\n",
      "only showing top 20 rows\n",
      "\n"
     ]
    }
   ],
   "source": [
    "# Yeni bir değişken (sütun) eklemek-türetmek istersek\n",
    "\n",
    "spark_df = spark_df.withColumn(\"age_kare\" , spark_df.age**2)\n",
    "\n",
    "spark_df.show()"
   ]
  },
  {
   "cell_type": "code",
   "execution_count": 23,
   "metadata": {},
   "outputs": [
    {
     "name": "stdout",
     "output_type": "stream",
     "text": [
      "+-----+-------------------+----+--------------+---------------+-----+---------+-----+--------+-----+\n",
      "|index|              names| age|total_purchase|account_manager|years|num_sites|churn|age_kare|label|\n",
      "+-----+-------------------+----+--------------+---------------+-----+---------+-----+--------+-----+\n",
      "|    0|   Cameron Williams|42.0|       11066.8|              0| 7.22|      8.0|    1|  1764.0|    1|\n",
      "|    1|      Kevin Mueller|41.0|      11916.22|              0|  6.5|     11.0|    1|  1681.0|    1|\n",
      "|    2|        Eric Lozano|38.0|      12884.75|              0| 6.67|     12.0|    1|  1444.0|    1|\n",
      "|    3|      Phillip White|42.0|       8010.76|              0| 6.71|     10.0|    1|  1764.0|    1|\n",
      "|    4|     Cynthia Norton|37.0|       9191.58|              0| 5.56|      9.0|    1|  1369.0|    1|\n",
      "|    5|   Jessica Williams|48.0|      10356.02|              0| 5.12|      8.0|    1|  2304.0|    1|\n",
      "|    6|        Eric Butler|44.0|      11331.58|              1| 5.23|     11.0|    1|  1936.0|    1|\n",
      "|    7|      Zachary Walsh|32.0|       9885.12|              1| 6.92|      9.0|    1|  1024.0|    1|\n",
      "|    8|        Ashlee Carr|43.0|       14062.6|              1| 5.46|     11.0|    1|  1849.0|    1|\n",
      "|    9|     Jennifer Lynch|40.0|       8066.94|              1| 7.11|     11.0|    1|  1600.0|    1|\n",
      "|   10|       Paula Harris|30.0|      11575.37|              1| 5.22|      8.0|    1|   900.0|    1|\n",
      "|   11|     Bruce Phillips|45.0|       8771.02|              1| 6.64|     11.0|    1|  2025.0|    1|\n",
      "|   12|       Craig Garner|45.0|       8988.67|              1| 4.84|     11.0|    1|  2025.0|    1|\n",
      "|   13|       Nicole Olson|40.0|       8283.32|              1|  5.1|     13.0|    1|  1600.0|    1|\n",
      "|   14|     Harold Griffin|41.0|       6569.87|              1|  4.3|     11.0|    1|  1681.0|    1|\n",
      "|   15|       James Wright|38.0|      10494.82|              1| 6.81|     12.0|    1|  1444.0|    1|\n",
      "|   16|      Doris Wilkins|45.0|       8213.41|              1| 7.35|     11.0|    1|  2025.0|    1|\n",
      "|   17|Katherine Carpenter|43.0|      11226.88|              0| 8.08|     12.0|    1|  1849.0|    1|\n",
      "|   18|     Lindsay Martin|53.0|       5515.09|              0| 6.85|      8.0|    1|  2809.0|    1|\n",
      "|   19|        Kathy Curry|46.0|        8046.4|              1| 5.69|      8.0|    1|  2116.0|    1|\n",
      "+-----+-------------------+----+--------------+---------------+-----+---------+-----+--------+-----+\n",
      "only showing top 20 rows\n",
      "\n"
     ]
    }
   ],
   "source": [
    "# Bağımlı(churn) değişkeni ifade etmek istersek\n",
    "\n",
    "from pyspark.ml.feature import StringIndexer    # Churn değişkeni int olmasına rağmen string gibi davrandık\n",
    "\n",
    "stringIndexer = StringIndexer(inputCol=\"churn\" , outputCol=\"label\")\n",
    "\n",
    "mod = stringIndexer.fit(spark_df)\n",
    "\n",
    "indexed = mod.transform(spark_df)\n",
    "\n",
    "spark_df = indexed.withColumn(\"label\"  , indexed[\"label\"].cast(\"integer\"))\n",
    "\n",
    "spark_df.show()\n",
    "\n",
    "\n",
    "# churn değişkeninin ikamesi olan \"label\" değişkenini oluşturduk"
   ]
  },
  {
   "cell_type": "code",
   "execution_count": 24,
   "metadata": {},
   "outputs": [
    {
     "name": "stdout",
     "output_type": "stream",
     "text": [
      "+-----+-------------------+----+--------------+---------------+-----+---------+-----+--------+-----+-----------------------------+\n",
      "|index|names              |age |total_purchase|account_manager|years|num_sites|churn|age_kare|label|features                     |\n",
      "+-----+-------------------+----+--------------+---------------+-----+---------+-----+--------+-----+-----------------------------+\n",
      "|0    |Cameron Williams   |42.0|11066.8       |0              |7.22 |8.0      |1    |1764.0  |1    |[42.0,11066.8,0.0,7.22,8.0]  |\n",
      "|1    |Kevin Mueller      |41.0|11916.22      |0              |6.5  |11.0     |1    |1681.0  |1    |[41.0,11916.22,0.0,6.5,11.0] |\n",
      "|2    |Eric Lozano        |38.0|12884.75      |0              |6.67 |12.0     |1    |1444.0  |1    |[38.0,12884.75,0.0,6.67,12.0]|\n",
      "|3    |Phillip White      |42.0|8010.76       |0              |6.71 |10.0     |1    |1764.0  |1    |[42.0,8010.76,0.0,6.71,10.0] |\n",
      "|4    |Cynthia Norton     |37.0|9191.58       |0              |5.56 |9.0      |1    |1369.0  |1    |[37.0,9191.58,0.0,5.56,9.0]  |\n",
      "|5    |Jessica Williams   |48.0|10356.02      |0              |5.12 |8.0      |1    |2304.0  |1    |[48.0,10356.02,0.0,5.12,8.0] |\n",
      "|6    |Eric Butler        |44.0|11331.58      |1              |5.23 |11.0     |1    |1936.0  |1    |[44.0,11331.58,1.0,5.23,11.0]|\n",
      "|7    |Zachary Walsh      |32.0|9885.12       |1              |6.92 |9.0      |1    |1024.0  |1    |[32.0,9885.12,1.0,6.92,9.0]  |\n",
      "|8    |Ashlee Carr        |43.0|14062.6       |1              |5.46 |11.0     |1    |1849.0  |1    |[43.0,14062.6,1.0,5.46,11.0] |\n",
      "|9    |Jennifer Lynch     |40.0|8066.94       |1              |7.11 |11.0     |1    |1600.0  |1    |[40.0,8066.94,1.0,7.11,11.0] |\n",
      "|10   |Paula Harris       |30.0|11575.37      |1              |5.22 |8.0      |1    |900.0   |1    |[30.0,11575.37,1.0,5.22,8.0] |\n",
      "|11   |Bruce Phillips     |45.0|8771.02       |1              |6.64 |11.0     |1    |2025.0  |1    |[45.0,8771.02,1.0,6.64,11.0] |\n",
      "|12   |Craig Garner       |45.0|8988.67       |1              |4.84 |11.0     |1    |2025.0  |1    |[45.0,8988.67,1.0,4.84,11.0] |\n",
      "|13   |Nicole Olson       |40.0|8283.32       |1              |5.1  |13.0     |1    |1600.0  |1    |[40.0,8283.32,1.0,5.1,13.0]  |\n",
      "|14   |Harold Griffin     |41.0|6569.87       |1              |4.3  |11.0     |1    |1681.0  |1    |[41.0,6569.87,1.0,4.3,11.0]  |\n",
      "|15   |James Wright       |38.0|10494.82      |1              |6.81 |12.0     |1    |1444.0  |1    |[38.0,10494.82,1.0,6.81,12.0]|\n",
      "|16   |Doris Wilkins      |45.0|8213.41       |1              |7.35 |11.0     |1    |2025.0  |1    |[45.0,8213.41,1.0,7.35,11.0] |\n",
      "|17   |Katherine Carpenter|43.0|11226.88      |0              |8.08 |12.0     |1    |1849.0  |1    |[43.0,11226.88,0.0,8.08,12.0]|\n",
      "|18   |Lindsay Martin     |53.0|5515.09       |0              |6.85 |8.0      |1    |2809.0  |1    |[53.0,5515.09,0.0,6.85,8.0]  |\n",
      "|19   |Kathy Curry        |46.0|8046.4        |1              |5.69 |8.0      |1    |2116.0  |1    |[46.0,8046.4,1.0,5.69,8.0]   |\n",
      "+-----+-------------------+----+--------------+---------------+-----+---------+-----+--------+-----+-----------------------------+\n",
      "only showing top 20 rows\n",
      "\n"
     ]
    }
   ],
   "source": [
    "# Bağımsız değişkeni ifade etmek istersek\n",
    "\n",
    "from pyspark.ml.feature import VectorAssembler # sadece sayısal değişkenleri kabul ediyor\n",
    "\n",
    "bagımsiz_degiskenler = [\"age\" , \"total_purchase\" , \"account_manager\" , \"years\" , \"num_sites\"]\n",
    "\n",
    "vectorAssembler = VectorAssembler(inputCols= bagımsiz_degiskenler , outputCol=\"features\")   \n",
    "# bagımsiz_degiskenlerde belirttiğimiz tüm değişlenlerimizi tek bir vektör tipinde alıp (her bir satır için) \"features\" şeklinde isimlendiriyor.\n",
    "# Bizim bunu bir standarda sokmamız gerekiyor.\n",
    "\n",
    "va_df = vectorAssembler.transform(spark_df)\n",
    "\n",
    "va_df.show(truncate=False)\n",
    "\n",
    "\n",
    "# Her bir sırayı incelediğimizde features sütununda sırasıyla \"age\" , \"total_purchase\" , \"account_manager\" , \"years\" , \"num_sites\" değişkenlerinin bir dizi şeklinde toplandığını görüyoruz\n",
    "# Şimdi bu ıluşturduğumuz bağımlı ve bağımsız değişkenlerimizi bunun içerisinden seçme işlemine sokmamız gerekiyor"
   ]
  },
  {
   "cell_type": "code",
   "execution_count": 25,
   "metadata": {},
   "outputs": [
    {
     "name": "stdout",
     "output_type": "stream",
     "text": [
      "+-----------------------------+-----+\n",
      "|features                     |label|\n",
      "+-----------------------------+-----+\n",
      "|[42.0,11066.8,0.0,7.22,8.0]  |1    |\n",
      "|[41.0,11916.22,0.0,6.5,11.0] |1    |\n",
      "|[38.0,12884.75,0.0,6.67,12.0]|1    |\n",
      "|[42.0,8010.76,0.0,6.71,10.0] |1    |\n",
      "|[37.0,9191.58,0.0,5.56,9.0]  |1    |\n",
      "|[48.0,10356.02,0.0,5.12,8.0] |1    |\n",
      "|[44.0,11331.58,1.0,5.23,11.0]|1    |\n",
      "|[32.0,9885.12,1.0,6.92,9.0]  |1    |\n",
      "|[43.0,14062.6,1.0,5.46,11.0] |1    |\n",
      "|[40.0,8066.94,1.0,7.11,11.0] |1    |\n",
      "|[30.0,11575.37,1.0,5.22,8.0] |1    |\n",
      "|[45.0,8771.02,1.0,6.64,11.0] |1    |\n",
      "|[45.0,8988.67,1.0,4.84,11.0] |1    |\n",
      "|[40.0,8283.32,1.0,5.1,13.0]  |1    |\n",
      "|[41.0,6569.87,1.0,4.3,11.0]  |1    |\n",
      "|[38.0,10494.82,1.0,6.81,12.0]|1    |\n",
      "|[45.0,8213.41,1.0,7.35,11.0] |1    |\n",
      "|[43.0,11226.88,0.0,8.08,12.0]|1    |\n",
      "|[53.0,5515.09,0.0,6.85,8.0]  |1    |\n",
      "|[46.0,8046.4,1.0,5.69,8.0]   |1    |\n",
      "+-----------------------------+-----+\n",
      "only showing top 20 rows\n",
      "\n"
     ]
    }
   ],
   "source": [
    "# Final veri setimizi oluşturma işlemini gerçekleştirdik\n",
    "\n",
    "final_df = va_df.select([\"features\" , \"label\"])\n",
    "\n",
    "final_df.show(truncate=False)"
   ]
  },
  {
   "cell_type": "code",
   "execution_count": 26,
   "metadata": {},
   "outputs": [],
   "source": [
    "# Test-train ayrımı\n",
    "\n",
    "splits = final_df.randomSplit([0.70 , 0.30]) # 70-30 ayırdık\n",
    "\n",
    "train_df = splits[0]\n",
    "test_df = splits[1]"
   ]
  },
  {
   "cell_type": "markdown",
   "metadata": {},
   "source": [
    "# GBM ile Müşteri Terk Modellemesi"
   ]
  },
  {
   "cell_type": "code",
   "execution_count": 27,
   "metadata": {},
   "outputs": [],
   "source": [
    "import pyspark\n",
    "from pyspark.ml.classification import GBTClassifier #GBM algoritması"
   ]
  },
  {
   "cell_type": "code",
   "execution_count": 37,
   "metadata": {},
   "outputs": [],
   "source": [
    "# Model\n",
    "\n",
    "gbm_model = GBTClassifier(maxIter=10 , featuresCol=\"features\" , labelCol=\"label\").fit(train_df)"
   ]
  },
  {
   "cell_type": "code",
   "execution_count": 30,
   "metadata": {},
   "outputs": [
    {
     "data": {
      "text/plain": [
       "DataFrame[features: vector, label: int, rawPrediction: vector, probability: vector, prediction: double]"
      ]
     },
     "execution_count": 30,
     "metadata": {},
     "output_type": "execute_result"
    }
   ],
   "source": [
    "# Tahmin\n",
    "\n",
    "y_pred = gbm_model.transform(test_df)\n",
    "y_pred"
   ]
  },
  {
   "cell_type": "code",
   "execution_count": 33,
   "metadata": {},
   "outputs": [
    {
     "data": {
      "text/plain": [
       "0.8507462686567164"
      ]
     },
     "execution_count": 33,
     "metadata": {},
     "output_type": "execute_result"
    }
   ],
   "source": [
    "# İlkel test hatamız\n",
    "\n",
    "ac = y_pred.select(\"label\" , \"prediction\")  # y_pred'de birden fazla sütun oldu biz bunlardan sadece bağımlı değişkeni ve tahmin değerlerini seçmek istedik\n",
    "\n",
    "ac.filter(ac.label == ac.prediction).count() / ac.count()   # ACCURACY değerini hesapladık. %85 doğru tahminde bulunmuş\n"
   ]
  },
  {
   "cell_type": "code",
   "execution_count": 43,
   "metadata": {},
   "outputs": [],
   "source": [
    "# Model Tuning (Doğrulama)\n",
    "\n",
    "from pyspark.ml.evaluation import BinaryClassificationEvaluator\n",
    "from pyspark.ml.tuning import ParamGridBuilder , CrossValidator\n",
    "\n",
    "gbm = GBTClassifier(maxIter=10 , featuresCol=\"features\" , labelCol=\"label\")\n",
    "\n",
    "evaluator = BinaryClassificationEvaluator()\n",
    "\n",
    "paramGrid = (ParamGridBuilder() .addGrid(gbm.maxDepth, [2, 4, 6]) .addGrid(gbm.maxBins, [20, 30]) .addGrid(gbm.maxIter, [10, 20]) .build())\n",
    "\n",
    "gbm_cv_model = CrossValidator(estimator=gbm , estimatorParamMaps=paramGrid ,   evaluator=evaluator ,   numFolds=10).fit(train_df)"
   ]
  },
  {
   "cell_type": "code",
   "execution_count": 45,
   "metadata": {},
   "outputs": [
    {
     "data": {
      "text/plain": [
       "0.8731343283582089"
      ]
     },
     "execution_count": 45,
     "metadata": {},
     "output_type": "execute_result"
    }
   ],
   "source": [
    "# Final hata oranımız\n",
    "\n",
    "y_pred = gbm_cv_model.transform(test_df)\n",
    "\n",
    "ac = y_pred.select(\"label\" , \"prediction\")\n",
    "\n",
    "ac.filter(ac.label == ac.prediction).count() / ac.count()   # Son tahminde %88'lik bir tahmin oranı bulduk"
   ]
  },
  {
   "cell_type": "markdown",
   "metadata": {},
   "source": [
    "# Yeni müşteri geldiğinde terk eder mi etmez mi tahmin etmek"
   ]
  },
  {
   "cell_type": "code",
   "execution_count": 47,
   "metadata": {},
   "outputs": [],
   "source": [
    "\n",
    "\n",
    "import pandas as pd\n",
    "\n",
    "names = pd.Series([\"Ali Ahmetoğlu\" , \"Taner Gün\" , \"Berkay Yurt\" , \"Polat Konak\" , \"Kamil Atasoy\"])\n",
    "age = pd.Series([38,43,34,50,40])\n",
    "total_purchase = pd.Series([30000,10000,6000,30000,100000])\n",
    "account_manager = pd.Series([1,0,0,1,1])\n",
    "years = pd.Series([20,10,3,8,30])\n",
    "num_sites = pd.Series([30,8,8,6,50])\n",
    "\n",
    "yeni_musteriler = pd.DataFrame({\n",
    "    \"names\":names,\n",
    "    \"age\":age,\n",
    "    \"total_purchase\":total_purchase,\n",
    "    \"account_manager\":account_manager,\n",
    "    \"years\":years,\n",
    "    \"num_sites\":num_sites,\n",
    "})"
   ]
  },
  {
   "cell_type": "code",
   "execution_count": 50,
   "metadata": {},
   "outputs": [
    {
     "name": "stdout",
     "output_type": "stream",
     "text": [
      "+-------------+---+--------------+---------------+-----+---------+\n",
      "|        names|age|total_purchase|account_manager|years|num_sites|\n",
      "+-------------+---+--------------+---------------+-----+---------+\n",
      "|Ali Ahmetoğlu| 38|         30000|              1|   20|       30|\n",
      "|    Taner Gün| 43|         10000|              0|   10|        8|\n",
      "|  Berkay Yurt| 34|          6000|              0|    3|        8|\n",
      "|  Polat Konak| 50|         30000|              1|    8|        6|\n",
      "| Kamil Atasoy| 40|        100000|              1|   30|       50|\n",
      "+-------------+---+--------------+---------------+-----+---------+\n",
      "\n"
     ]
    }
   ],
   "source": [
    "# Üstte oluşturuduğumuz pandas df'i kurmuş olduğumuz spark makine öğrenmesi modeli ile kullanabilmek için bunu spark'ın anlayacağı dile çevirmeliyiz\n",
    "\n",
    "yeni_sdf = spark.createDataFrame(yeni_musteriler)\n",
    "\n",
    "yeni_sdf.show()"
   ]
  },
  {
   "cell_type": "code",
   "execution_count": 53,
   "metadata": {},
   "outputs": [
    {
     "name": "stdout",
     "output_type": "stream",
     "text": [
      "+-------------+----------+\n",
      "|        names|prediction|\n",
      "+-------------+----------+\n",
      "|Ali Ahmetoğlu|       1.0|\n",
      "|    Taner Gün|       0.0|\n",
      "|  Berkay Yurt|       0.0|\n",
      "|  Polat Konak|       0.0|\n",
      "| Kamil Atasoy|       1.0|\n",
      "+-------------+----------+\n",
      "\n"
     ]
    }
   ],
   "source": [
    "# Bir de bunu model nesnesinin anlayacağı formata da çevirmeliyiz (features , label)\n",
    "\n",
    "yeni_musteriler = vectorAssembler.transform(yeni_sdf)\n",
    "\n",
    "# Son olarak sonucu elde edelim\n",
    "results = gbm_cv_model.transform(yeni_musteriler)\n",
    "results.select(\"names\" , \"prediction\").show()"
   ]
  }
 ],
 "metadata": {
  "kernelspec": {
   "display_name": "Python 3",
   "language": "python",
   "name": "python3"
  },
  "language_info": {
   "codemirror_mode": {
    "name": "ipython",
    "version": 3
   },
   "file_extension": ".py",
   "mimetype": "text/x-python",
   "name": "python",
   "nbconvert_exporter": "python",
   "pygments_lexer": "ipython3",
   "version": "3.11.9"
  }
 },
 "nbformat": 4,
 "nbformat_minor": 2
}
